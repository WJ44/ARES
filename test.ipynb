{
 "cells": [
  {
   "cell_type": "code",
   "execution_count": null,
   "metadata": {},
   "outputs": [],
   "source": [
    "%env OPENAI_API_KEY=test"
   ]
  },
  {
   "cell_type": "code",
   "execution_count": null,
   "metadata": {},
   "outputs": [],
   "source": [
    "from ares import ARES\n",
    "\n",
    "ues_idp_config = {\n",
    "    \"in_domain_prompts_dataset\": \"datasets/example_files/nq_few_shot_prompt_for_judge_scoring.tsv\",\n",
    "    \"unlabeled_evaluation_set\": \"datasets/example_files/nq_unlabeled_output.tsv\", \n",
    "    \"model_choice\": \"meta-llama/Meta-Llama-3-8B-Instruct\", # Specify vLLM model\n",
    "    \"vllm\": True, # Toggle vLLM to True \n",
    "    \"host_url\": \"http://0.0.0.0:8000/v1\", # Replace with server hosting model followed by \"/v1\"\n",
    "    \"debug_mode\": True\n",
    "} \n",
    "\n",
    "ares = ARES(ues_idp=ues_idp_config)\n",
    "results = ares.ues_idp()\n",
    "print(results)"
   ]
  },
  {
   "cell_type": "code",
   "execution_count": null,
   "metadata": {},
   "outputs": [],
   "source": [
    "from ares import ARES\n",
    "\n",
    "synth_config = { \n",
    "    \"document_filepaths\": [\"datasets/example_files/nq_labeled_output.tsv\"],\n",
    "    \"few_shot_prompt_filename\": \"datasets/example_files/nq_few_shot_prompt_for_synthetic_query_generation.tsv\",\n",
    "    \"synthetic_queries_filenames\": [\"synthetic_queries_test.tsv\"],\n",
    "    \"model_choice\": \"google/flan-t5-small\",\n",
    "    \"documents_sampled\": 10\n",
    "}\n",
    "\n",
    "ares = ARES(synthetic_query_generator=synth_config)\n",
    "results = ares.generate_synthetic_data()\n",
    "print(results)"
   ]
  },
  {
   "cell_type": "code",
   "execution_count": null,
   "metadata": {},
   "outputs": [],
   "source": [
    "from ares import ARES\n",
    "\n",
    "classifier_config = {\n",
    "    \"training_dataset\": [\"synthetic_queries_test.tsv\"], \n",
    "    \"validation_set\": [\"datasets/example_files/nq_labeled_output.tsv\"], \n",
    "    \"label_column\": [\"Context_Relevance_Label\"], \n",
    "    \"num_epochs\": 1, \n",
    "    \"patience_value\": 3, \n",
    "    \"learning_rate\": 5e-6,\n",
    "    \"assigned_batch_size\": 1,  \n",
    "    \"gradient_accumulation_multiplier\": 32,\n",
    "    \"model_choice\": \"microsoft/deberta-v3-xsmall\"\n",
    "}\n",
    "\n",
    "ares = ARES(classifier_model=classifier_config)\n",
    "results = ares.train_classifier()\n",
    "print(results)"
   ]
  },
  {
   "cell_type": "code",
   "execution_count": null,
   "metadata": {},
   "outputs": [],
   "source": [
    "from ares import ARES\n",
    "\n",
    "ppi_config = { \n",
    "    \"evaluation_datasets\": [\"datasets/example_files/nq_unlabeled_output_small.tsv\", \"datasets/example_files/nq_unlabeled_output_small.tsv\"], \n",
    "    \"few_shot_examples_filepath\": \"datasets/example_files/nq_few_shot_prompt_for_judge_scoring.tsv\",\n",
    "    \"checkpoints\": [\"checkpoints/microsoft-deberta-v3-xsmall/Context_Relevance_Label_nq_labeled_output_2024-05-21_11:38:01.pt\", \"checkpoints/microsoft-deberta-v3-xsmall/Context_Relevance_Label_nq_labeled_output_2024-05-21_11:38:01.pt\"], \n",
    "    \"rag_type\": \"question_answering\", \n",
    "    \"labels\": [\"Context_Relevance_Label\", \"Context_Relevance_Label\"], \n",
    "    \"gold_label_path\": \"datasets/example_files/nq_labeled_output.tsv\",\n",
    "    \"model_choice\": \"microsoft/deberta-v3-xsmall\"\n",
    "}\n",
    "\n",
    "ares = ARES(ppi=ppi_config)\n",
    "results = ares.evaluate_RAG()\n",
    "print(results)"
   ]
  }
 ],
 "metadata": {
  "kernelspec": {
   "display_name": "llm_judge",
   "language": "python",
   "name": "python3"
  },
  "language_info": {
   "codemirror_mode": {
    "name": "ipython",
    "version": 3
   },
   "file_extension": ".py",
   "mimetype": "text/x-python",
   "name": "python",
   "nbconvert_exporter": "python",
   "pygments_lexer": "ipython3",
   "version": "3.11.9"
  }
 },
 "nbformat": 4,
 "nbformat_minor": 2
}
