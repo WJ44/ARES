{
 "cells": [
  {
   "cell_type": "code",
   "execution_count": 3,
   "metadata": {},
   "outputs": [
    {
     "name": "stdout",
     "output_type": "stream",
     "text": [
      "env: OPENAI_API_KEY=test\n"
     ]
    }
   ],
   "source": [
    "%env OPENAI_API_KEY=test"
   ]
  },
  {
   "cell_type": "code",
   "execution_count": 4,
   "metadata": {},
   "outputs": [
    {
     "name": "stdout",
     "output_type": "stream",
     "text": [
      "Beginning synthetic query generation!\n"
     ]
    },
    {
     "name": "stderr",
     "output_type": "stream",
     "text": [
      "Generating synthetic queries...:   0%|          | 0/10 [00:00<?, ?it/s]Token indices sequence length is longer than the specified maximum sequence length for this model (1649 > 512). Running this sequence through the model will result in indexing errors\n",
      "Generating synthetic queries...: 100%|██████████| 10/10 [00:19<00:00,  1.97s/it]\n"
     ]
    },
    {
     "name": "stdout",
     "output_type": "stream",
     "text": [
      "Saved synthetic queries to: synthetic_queries_test.tsv\n",
      "Beginning answer generation!\n"
     ]
    },
    {
     "name": "stderr",
     "output_type": "stream",
     "text": [
      "Generating answers...: 100%|██████████| 32/32 [00:13<00:00,  2.40it/s]\n"
     ]
    },
    {
     "name": "stdout",
     "output_type": "stream",
     "text": [
      "Saved answers to: synthetic_queries_test.tsv\n",
      "Generating contradictory answers!\n"
     ]
    },
    {
     "name": "stderr",
     "output_type": "stream",
     "text": [
      "100%|██████████| 21/21 [00:03<00:00,  6.36it/s]\n",
      "100%|██████████| 21/21 [00:00<00:00, 358050.34it/s]\n"
     ]
    },
    {
     "name": "stdout",
     "output_type": "stream",
     "text": [
      "Saved answers to: synthetic_queries_test.tsv\n",
      "Generating index and negatives!\n"
     ]
    },
    {
     "name": "stderr",
     "output_type": "stream",
     "text": [
      "Generating embeddings...: 100%|██████████| 10/10 [00:00<00:00, 89.78it/s]\n"
     ]
    },
    {
     "data": {
      "application/vnd.jupyter.widget-view+json": {
       "model_id": "b71da33d9e7a496e833330d3df659cfe",
       "version_major": 2,
       "version_minor": 0
      },
      "text/plain": [
       "  0%|          | 0/1 [00:00<?, ?it/s]"
      ]
     },
     "metadata": {},
     "output_type": "display_data"
    },
    {
     "name": "stderr",
     "output_type": "stream",
     "text": [
      "100%|██████████| 74/74 [00:00<00:00, 111.40it/s]\n",
      "100%|██████████| 16/16 [00:00<00:00, 115.74it/s]\n",
      "0it [00:00, ?it/s]\n"
     ]
    },
    {
     "name": "stdout",
     "output_type": "stream",
     "text": [
      "Completed synthetic generation!\n",
      "Saved synthetic queries file to: synthetic_queries_test.tsv\n",
      "None\n"
     ]
    }
   ],
   "source": [
    "from ares import ARES\n",
    "\n",
    "synth_config = { \n",
    "    \"document_filepaths\": [\"datasets/example_files/nq_labeled_output.tsv\"],\n",
    "    \"few_shot_prompt_filename\": \"datasets/example_files/nq_few_shot_prompt_for_synthetic_query_generation.tsv\",\n",
    "    \"synthetic_queries_filenames\": [\"synthetic_queries_test.tsv\"],\n",
    "    \"model_choice\": \"google/flan-t5-small\",\n",
    "    \"documents_sampled\": 10\n",
    "}\n",
    "\n",
    "ares = ARES(synthetic_query_generator=synth_config)\n",
    "results = ares.generate_synthetic_data()\n",
    "print(results)"
   ]
  },
  {
   "cell_type": "code",
   "execution_count": 5,
   "metadata": {},
   "outputs": [
    {
     "name": "stdout",
     "output_type": "stream",
     "text": [
      "--------------------------------------------------------------------------\n",
      "Starting new learning rate: 5e-06\n",
      "--------------------------------------------------------------------------\n",
      "Dataset: synthetic_queries_test.tsv\n",
      "Model: microsoft/deberta-v3-xsmall\n",
      "Test Set Selection: datasets/example_files/nq_labeled_output.tsv\n",
      "Number of Runs: 1\n",
      "Learning Rate: 5e-06\n",
      "Checkpoint Path: checkpoints/microsoft-deberta-v3-xsmall/Context_Relevance_Label_nq_labeled_output_2024-05-16_16:54:16.pt\n",
      "Patience: 3\n",
      "Validation Set Choice: True\n",
      "Number of Epochs: 1\n",
      "Number of warmup steps: 100\n",
      "--------------------------------------------------------------------------\n"
     ]
    },
    {
     "name": "stderr",
     "output_type": "stream",
     "text": [
      "Tokenizing: 100%|██████████| 87/87 [00:00<00:00, 3139.96it/s]\n"
     ]
    },
    {
     "name": "stdout",
     "output_type": "stream",
     "text": [
      "---------------------------------------------------\n"
     ]
    },
    {
     "data": {
      "application/vnd.jupyter.widget-view+json": {
       "model_id": "a2401ebf4b404d9ba3cbaad3bdb9b587",
       "version_major": 2,
       "version_minor": 0
      },
      "text/plain": [
       "Map:   0%|          | 0/47 [00:00<?, ? examples/s]"
      ]
     },
     "metadata": {},
     "output_type": "display_data"
    },
    {
     "data": {
      "application/vnd.jupyter.widget-view+json": {
       "model_id": "668b34d6fe754355b49d1ff13730d20c",
       "version_major": 2,
       "version_minor": 0
      },
      "text/plain": [
       "Map:   0%|          | 0/3980 [00:00<?, ? examples/s]"
      ]
     },
     "metadata": {},
     "output_type": "display_data"
    },
    {
     "data": {
      "application/vnd.jupyter.widget-view+json": {
       "model_id": "92728c64adfe4ce09032e96f206afb2b",
       "version_major": 2,
       "version_minor": 0
      },
      "text/plain": [
       "Map:   0%|          | 0/3980 [00:00<?, ? examples/s]"
      ]
     },
     "metadata": {},
     "output_type": "display_data"
    },
    {
     "name": "stdout",
     "output_type": "stream",
     "text": [
      "Loading Model\n",
      "Checkpoint Path: checkpoints/microsoft-deberta-v3-xsmall/Context_Relevance_Label_nq_labeled_output_2024-05-16_16:54:16.pt\n",
      "Beginning Training\n",
      "Current Epoch: 0\n"
     ]
    },
    {
     "name": "stderr",
     "output_type": "stream",
     "text": [
      "100%|██████████| 47/47 [21:01:54<00:00, 1610.95s/it]    \n"
     ]
    }
   ],
   "source": [
    "from ares import ARES\n",
    "\n",
    "classifier_config = {\n",
    "    \"training_dataset\": [\"synthetic_queries_test.tsv\"], \n",
    "    \"validation_set\": [\"datasets/example_files/nq_labeled_output.tsv\"], \n",
    "    \"label_column\": [\"Context_Relevance_Label\"], \n",
    "    \"num_epochs\": 1, \n",
    "    \"patience_value\": 3, \n",
    "    \"learning_rate\": 5e-6,\n",
    "    \"assigned_batch_size\": 1,  \n",
    "    \"gradient_accumulation_multiplier\": 32,\n",
    "    \"model_choice\": \"microsoft/deberta-v3-xsmall\"\n",
    "}\n",
    "\n",
    "ares = ARES(classifier_model=classifier_config)\n",
    "results = ares.train_classifier()\n",
    "print(results)"
   ]
  }
 ],
 "metadata": {
  "kernelspec": {
   "display_name": "llm_judge",
   "language": "python",
   "name": "python3"
  },
  "language_info": {
   "codemirror_mode": {
    "name": "ipython",
    "version": 3
   },
   "file_extension": ".py",
   "mimetype": "text/x-python",
   "name": "python",
   "nbconvert_exporter": "python",
   "pygments_lexer": "ipython3",
   "version": "3.10.14"
  }
 },
 "nbformat": 4,
 "nbformat_minor": 2
}
