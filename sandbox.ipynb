{
 "cells": [
  {
   "cell_type": "code",
   "execution_count": null,
   "metadata": {},
   "outputs": [],
   "source": [
    "import pandas as pd\n",
    "\n",
    "df = pd.read_json(\"multilingual_data/xor_attriqa/in-language/fi.jsonl\", lines=True)\n",
    "# df = df[df.query_language == \"fi\"]\n",
    "df.head()"
   ]
  },
  {
   "cell_type": "code",
   "execution_count": null,
   "metadata": {},
   "outputs": [],
   "source": [
    "dataset = pd.DataFrame()\n",
    "\n",
    "dataset[\"Document\"] = df[\"passage_en\"]\n",
    "dataset[\"Answer\"] = df[\"prediction_translated_en\"]\n",
    "dataset[\"Query\"] = df[\"query_translated_en\"]\n",
    "dataset[\"doc_lang\"] = \"en\"\n",
    "dataset[\"qa_lang\"] = \"en\"\n",
    "dataset[\"Answer_Faithfulness\"] = df[\"ais\"]\n",
    "\n",
    "\n",
    "dataset2 = pd.DataFrame()\n",
    "\n",
    "dataset2[\"Document\"] = df[\"passage_in_language\"]\n",
    "dataset2[\"Answer\"] = df[\"prediction\"]\n",
    "dataset2[\"Query\"] = df[\"query\"]\n",
    "dataset2[\"doc_lang\"] = \"fi\"\n",
    "dataset2[\"qa_lang\"] = \"fi\"\n",
    "dataset2[\"Answer_Faithfulness\"] = df[\"ais\"]\n",
    "\n",
    "dataset3 = pd.DataFrame()\n",
    "\n",
    "dataset3[\"Document\"] = df[\"passage_in_language\"]\n",
    "dataset3[\"Answer\"] = df[\"prediction_translated_en\"]\n",
    "dataset3[\"Query\"] = df[\"query_translated_en\"]\n",
    "dataset3[\"doc_lang\"] = \"fi\"\n",
    "dataset3[\"qa_lang\"] = \"en\"\n",
    "dataset3[\"Answer_Faithfulness\"] = df[\"ais\"]\n",
    "\n",
    "dataset4 = pd.DataFrame()\n",
    "\n",
    "dataset4[\"Document\"] = df[\"passage_en\"]\n",
    "dataset4[\"Answer\"] = df[\"prediction\"]\n",
    "dataset4[\"Query\"] = df[\"query\"]\n",
    "dataset4[\"doc_lang\"] = \"en\"\n",
    "dataset4[\"qa_lang\"] = \"fi\"\n",
    "dataset4[\"Answer_Faithfulness\"] = df[\"ais\"]\n",
    "\n",
    "dataset = pd.concat([dataset, dataset2, dataset3, dataset4], axis=0, ignore_index=True)\n",
    "\n",
    "dataset.head()"
   ]
  }
 ],
 "metadata": {
  "kernelspec": {
   "display_name": "llm_judge",
   "language": "python",
   "name": "python3"
  },
  "language_info": {
   "codemirror_mode": {
    "name": "ipython",
    "version": 3
   },
   "file_extension": ".py",
   "mimetype": "text/x-python",
   "name": "python",
   "nbconvert_exporter": "python",
   "pygments_lexer": "ipython3",
   "version": "3.11.9"
  }
 },
 "nbformat": 4,
 "nbformat_minor": 2
}
