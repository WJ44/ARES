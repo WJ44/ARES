{
 "cells": [
  {
   "cell_type": "code",
   "execution_count": null,
   "metadata": {},
   "outputs": [],
   "source": [
    "from ares.kilt_filter import KILT_dataset_process\n",
    "\n",
    "KILT_dataset_process(\"nq\")"
   ]
  },
  {
   "cell_type": "code",
   "execution_count": null,
   "metadata": {},
   "outputs": [],
   "source": [
    "from ares import ARES\n",
    "\n",
    "synth_config = {\n",
    "    \"document_filepaths\": [\"datasets/example_files/nq_unlabeled_output.tsv\"],\n",
    "    \"few_shot_prompt_filename\": \"datasets/example_files/nq_few_shot_prompt_for_synthetic_query_generation.tsv\",\n",
    "    \"synthetic_queries_filenames\": [\"nq_synthetic_queries.tsv\"],\n",
    "    \"documents_sampled\": 6189,\n",
    "}\n",
    "\n",
    "ares_module = ARES(synthetic_query_generator=synth_config)\n",
    "results = ares_module.generate_synthetic_data()\n",
    "print(results)"
   ]
  },
  {
   "cell_type": "code",
   "execution_count": 1,
   "metadata": {},
   "outputs": [],
   "source": [
    "from ares import ARES\n",
    "\n",
    "classifier_config = {\n",
    "    \"training_dataset\": [\"datasets/example_files/nq_synthetic_queries.tsv\"],\n",
    "    \"validation_set\": [\"datasets/example_files/nq_labeled_output.tsv\"],\n",
    "    \"label_column\": [\"Context_Relevance_Label\", \"Answer_Relevance_Label\"],\n",
    "    \"num_epochs\": 10,\n",
    "    \"patience_value\": 3,\n",
    "    \"learning_rate\": 5e-6,\n",
    "    \"assigned_batch_size\": 1,\n",
    "    \"gradient_accumulation_multiplier\": 32,\n",
    "}\n",
    "\n",
    "ares = ARES(classifier_model=classifier_config)\n",
    "results = ares.train_classifier()\n",
    "print(results)"
   ]
  },
  {
   "cell_type": "code",
   "execution_count": 2,
   "metadata": {},
   "outputs": [
    {
     "name": "stdout",
     "output_type": "stream",
     "text": [
      "--------------------------------------------------------\n",
      "Evaluation Sets: ['datasets/example_files/nq_unlabeled_output.tsv']\n",
      "Checkpoints: ['checkpoints/Context_Relevance_Label_joint_trained_date_time.pt', 'checkpoints/Answer_Relevance_Label_joint_trained_date_time.pt']\n",
      "Labels: ['Context_Relevance_Label', 'Answer_Relevance_Label']\n",
      "--------------------------------------------------------\n"
     ]
    },
    {
     "name": "stderr",
     "output_type": "stream",
     "text": [
      "/home/wesley/miniconda3/envs/ares/lib/python3.11/site-packages/huggingface_hub/file_download.py:1132: FutureWarning: `resume_download` is deprecated and will be removed in version 1.0.0. Downloads always resume when possible. If you want to force a new download, use `force_download=True`.\n",
      "  warnings.warn(\n"
     ]
    },
    {
     "name": "stdout",
     "output_type": "stream",
     "text": [
      "Loaded model from checkpoint: checkpoints/Context_Relevance_Label_joint_trained_date_time.pt\n"
     ]
    },
    {
     "data": {
      "application/vnd.jupyter.widget-view+json": {
       "model_id": "f085b33235d840488b846d95471d6d92",
       "version_major": 2,
       "version_minor": 0
      },
      "text/plain": [
       "Downloading builder script:   0%|          | 0.00/4.20k [00:00<?, ?B/s]"
      ]
     },
     "metadata": {},
     "output_type": "display_data"
    },
    {
     "name": "stderr",
     "output_type": "stream",
     "text": [
      "Trials:   0%|          | 0/1000 [00:00<?, ?it/s]               /home/wesley/projects/ARES/ares/RAG_Automatic_Evaluation/ppi.py:81: RuntimeWarning: Mean of empty slice.\n",
      "  rechat = (Yhat_labeled - Y_labeled).mean()\n",
      "/home/wesley/miniconda3/envs/ares/lib/python3.11/site-packages/numpy/core/_methods.py:129: RuntimeWarning: invalid value encountered in scalar divide\n",
      "  ret = ret.dtype.type(ret / rcount)\n",
      "/home/wesley/miniconda3/envs/ares/lib/python3.11/site-packages/numpy/core/_methods.py:206: RuntimeWarning: Degrees of freedom <= 0 for slice\n",
      "  ret = _var(a, axis=axis, dtype=dtype, out=out, ddof=ddof,\n",
      "/home/wesley/miniconda3/envs/ares/lib/python3.11/site-packages/numpy/core/_methods.py:163: RuntimeWarning: invalid value encountered in divide\n",
      "  arrmean = um.true_divide(arrmean, div, out=arrmean,\n",
      "/home/wesley/miniconda3/envs/ares/lib/python3.11/site-packages/numpy/core/_methods.py:198: RuntimeWarning: invalid value encountered in scalar divide\n",
      "  ret = ret.dtype.type(ret / rcount)\n",
      "Trials: 100%|██████████| 1000/1000 [00:23<00:00, 42.28it/s]\n"
     ]
    },
    {
     "name": "stdout",
     "output_type": "stream",
     "text": [
      "--------------------------------------------------\n",
      "Context_Relevance_Label Scoring\n",
      "ARES Ranking\n",
      "Evaluation_Set:datasets/example_files/nq_unlabeled_output.tsv\n",
      "Checkpoint:checkpoints/Context_Relevance_Label_joint_trained_date_time.pt\n",
      "ARES Prediction: [0.6056978059262574]\n",
      "ARES Confidence Interval: [[0.547, 0.664]]\n",
      "Number of Examples in Evaluation Set: [4421]\n",
      "Ground Truth Performance: [0.6]\n",
      "ARES LLM Judge Accuracy on Ground Truth Labels: [0.789]\n",
      "Annotated Examples used for PPI: 300\n",
      "--------------------------------------------------\n",
      "\n",
      "--------------------------------------------------------\n",
      "Evaluation Sets: ['datasets/example_files/nq_unlabeled_output.tsv']\n",
      "Checkpoints: ['checkpoints/Context_Relevance_Label_joint_trained_date_time.pt', 'checkpoints/Answer_Relevance_Label_joint_trained_date_time.pt']\n",
      "Labels: ['Context_Relevance_Label', 'Answer_Relevance_Label']\n",
      "--------------------------------------------------------\n"
     ]
    },
    {
     "name": "stderr",
     "output_type": "stream",
     "text": [
      "/home/wesley/miniconda3/envs/ares/lib/python3.11/site-packages/huggingface_hub/file_download.py:1132: FutureWarning: `resume_download` is deprecated and will be removed in version 1.0.0. Downloads always resume when possible. If you want to force a new download, use `force_download=True`.\n",
      "  warnings.warn(\n"
     ]
    },
    {
     "name": "stdout",
     "output_type": "stream",
     "text": [
      "Loaded model from checkpoint: checkpoints/Answer_Relevance_Label_joint_trained_date_time.pt\n"
     ]
    },
    {
     "name": "stderr",
     "output_type": "stream",
     "text": [
      "Trials:   0%|          | 0/1000 [00:00<?, ?it/s]               /home/wesley/projects/ARES/ares/RAG_Automatic_Evaluation/ppi.py:81: RuntimeWarning: Mean of empty slice.\n",
      "  rechat = (Yhat_labeled - Y_labeled).mean()\n",
      "/home/wesley/miniconda3/envs/ares/lib/python3.11/site-packages/numpy/core/_methods.py:129: RuntimeWarning: invalid value encountered in scalar divide\n",
      "  ret = ret.dtype.type(ret / rcount)\n",
      "/home/wesley/miniconda3/envs/ares/lib/python3.11/site-packages/numpy/core/_methods.py:206: RuntimeWarning: Degrees of freedom <= 0 for slice\n",
      "  ret = _var(a, axis=axis, dtype=dtype, out=out, ddof=ddof,\n",
      "/home/wesley/miniconda3/envs/ares/lib/python3.11/site-packages/numpy/core/_methods.py:163: RuntimeWarning: invalid value encountered in divide\n",
      "  arrmean = um.true_divide(arrmean, div, out=arrmean,\n",
      "/home/wesley/miniconda3/envs/ares/lib/python3.11/site-packages/numpy/core/_methods.py:198: RuntimeWarning: invalid value encountered in scalar divide\n",
      "  ret = ret.dtype.type(ret / rcount)\n",
      "Trials: 100%|██████████| 1000/1000 [00:21<00:00, 46.00it/s]\n"
     ]
    },
    {
     "name": "stdout",
     "output_type": "stream",
     "text": [
      "--------------------------------------------------\n",
      "Answer_Relevance_Label Scoring\n",
      "ARES Ranking\n",
      "Evaluation_Set:datasets/example_files/nq_unlabeled_output.tsv\n",
      "Checkpoint:checkpoints/Answer_Relevance_Label_joint_trained_date_time.pt\n",
      "ARES Prediction: [0.5955191133227766]\n",
      "ARES Confidence Interval: [[0.577, 0.614]]\n",
      "Number of Examples in Evaluation Set: [4421]\n",
      "Ground Truth Performance: [0.6]\n",
      "ARES LLM Judge Accuracy on Ground Truth Labels: [0.977]\n",
      "Annotated Examples used for PPI: 300\n",
      "--------------------------------------------------\n",
      "\n",
      "[[{'Label_Column': 'Context_Relevance_Label', 'Evaluation_Set': 'datasets/example_files/nq_unlabeled_output.tsv', 'ARES_Prediction': 0.6056978059262574, 'ARES_Confidence_Interval': [0.547, 0.664], 'Number_of_Examples_in_Evaluation_Set': 4421, 'Ground_Truth_Performance': 0.6, 'ARES_LLM_Judge_Accuracy_on_Ground_Truth_Labels': 0.789, 'Annotated_Examples_used_for_PPI': 300}], [{'Label_Column': 'Answer_Relevance_Label', 'Evaluation_Set': 'datasets/example_files/nq_unlabeled_output.tsv', 'ARES_Prediction': 0.5955191133227766, 'ARES_Confidence_Interval': [0.577, 0.614], 'Number_of_Examples_in_Evaluation_Set': 4421, 'Ground_Truth_Performance': 0.6, 'ARES_LLM_Judge_Accuracy_on_Ground_Truth_Labels': 0.977, 'Annotated_Examples_used_for_PPI': 300}]]\n"
     ]
    }
   ],
   "source": [
    "from ares import ARES\n",
    "\n",
    "ppi_config = {\n",
    "    \"evaluation_datasets\": [\"datasets/example_files/nq_unlabeled_output.tsv\"],\n",
    "    \"checkpoints\": [\"checkpoints/Context_Relevance_Label_joint_trained_date_time.pt\", \"checkpoints/Answer_Relevance_Label_joint_trained_date_time.pt\"],\n",
    "    \"labels\": [\"Context_Relevance_Label\", \"Answer_Relevance_Label\"],\n",
    "    \"gold_label_paths\": [\"datasets/example_files/nq_labeled_output.tsv\"],\n",
    "}\n",
    "\n",
    "ares_module = ARES(ppi=ppi_config)\n",
    "results = ares_module.evaluate_RAG()\n",
    "print(results)"
   ]
  }
 ],
 "metadata": {
  "kernelspec": {
   "display_name": "llm_judge",
   "language": "python",
   "name": "python3"
  },
  "language_info": {
   "codemirror_mode": {
    "name": "ipython",
    "version": 3
   },
   "file_extension": ".py",
   "mimetype": "text/x-python",
   "name": "python",
   "nbconvert_exporter": "python",
   "pygments_lexer": "ipython3",
   "version": "3.11.9"
  }
 },
 "nbformat": 4,
 "nbformat_minor": 2
}
