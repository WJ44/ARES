{
 "cells": [
  {
   "cell_type": "code",
   "execution_count": null,
   "metadata": {},
   "outputs": [],
   "source": [
    "from ares.kilt_filter import KILT_dataset_process\n",
    "\n",
    "KILT_dataset_process(\"nq\")"
   ]
  },
  {
   "cell_type": "code",
   "execution_count": null,
   "metadata": {},
   "outputs": [],
   "source": [
    "from ares import ARES\n",
    "\n",
    "synth_config = {\n",
    "    \"document_filepaths\": [\"datasets/example_files/nq_labeled_output.tsv\"],\n",
    "    \"few_shot_prompt_filename\": \"datasets/examp  le_files/nq_few_shot_prompt_for_synthetic_query_generation.tsv\",\n",
    "    \"synthetic_queries_filenames\": [\"nq_0.6_synthetic_queries.tsv\"],\n",
    "    \"documents_sampled\": 6189,\n",
    "}\n",
    "\n",
    "classifier_config = {\n",
    "    \"training_dataset\": [\"nq_0.6_synthetic_queries.tsv\"],\n",
    "    \"validation_set\": [\"datasets/example_files/nq_labeled_output.tsv\"],\n",
    "    \"label_column\": [\"Context_Relevance_Label\"],\n",
    "    \"num_epochs\": 10,\n",
    "    \"patience_value\": 3,\n",
    "    \"learning_rate\": 5e-6,\n",
    "    \"assigned_batch_size\": 1,\n",
    "    \"gradient_accumulation_multiplier\": 32,\n",
    "}\n",
    "\n",
    "ppi_config = {\n",
    "    \"evaluation_datasets\": [\"datasets/example_files/nq_unlabeled_output.tsv\"],\n",
    "    \"few_shot_examples_filepath\": \"datasets/example_files/nq_few_shot_prompt_for_judge_scoring.tsv\",\n",
    "    \"checkpoints\": [\"Context_Relevance_Label_nq_labeled_output_date_time.pt\"],\n",
    "    \"labels\": [\"Context_Relevance_Label\"],\n",
    "    \"gold_label_path\": \"datasets/example_files/nq_labeled_output.tsv\",\n",
    "}\n",
    "\n",
    "ares = ARES(synthetic_query_generator=synth_config, classifier_model=classifier_config, ppi=ppi_config)\n",
    "results = ares.run()\n",
    "print(results)"
   ]
  }
 ],
 "metadata": {
  "kernelspec": {
   "display_name": "llm_judge",
   "language": "python",
   "name": "python3"
  },
  "language_info": {
   "codemirror_mode": {
    "name": "ipython",
    "version": 3
   },
   "file_extension": ".py",
   "mimetype": "text/x-python",
   "name": "python",
   "nbconvert_exporter": "python",
   "pygments_lexer": "ipython3",
   "version": "3.11.9"
  }
 },
 "nbformat": 4,
 "nbformat_minor": 2
}
