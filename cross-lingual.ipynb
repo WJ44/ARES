{
 "cells": [
  {
   "cell_type": "code",
   "execution_count": null,
   "metadata": {},
   "outputs": [],
   "source": [
    "%env OPENAI_API_KEY=test"
   ]
  },
  {
   "cell_type": "code",
   "execution_count": null,
   "metadata": {},
   "outputs": [],
   "source": [
    "from ares import ARES"
   ]
  },
  {
   "cell_type": "code",
   "execution_count": null,
   "metadata": {},
   "outputs": [],
   "source": [
    "synth_config = {\n",
    "    \"document_filepaths\": [\"multilingual_data/mlqa_en-en.tsv\"],\n",
    "    \"few_shot_prompt_filename\": \"multilingual_data/few_shot_synthetic_generation_mlqa_en-en.tsv\",\n",
    "    \"synthetic_queries_filenames\": [\"multilingual_data/synthetic_queries_mlqa_en-en.tsv\"],\n",
    "    \"documents_sampled\": 10,\n",
    "    \"model_choice\": \"google/flan-t5-small\",\n",
    "    \"document_language\": \"English\",\n",
    "    \"query_language\": \"English\"\n",
    "}\n",
    "\n",
    "ares = ARES(synthetic_query_generator=synth_config)\n",
    "results = ares.generate_synthetic_data()\n",
    "print(results)\n",
    "\n",
    "synth_config = {\n",
    "    \"document_filepaths\": [\"multilingual_data/mlqa_en-de.tsv\"],\n",
    "    \"few_shot_prompt_filename\": \"multilingual_data/few_shot_synthetic_generation_mlqa_en-de.tsv\",\n",
    "    \"synthetic_queries_filenames\": [\"multilingual_data/synthetic_queries_mlqa_en-de.tsv\"],\n",
    "    \"documents_sampled\": 10,\n",
    "    \"model_choice\": \"google/flan-t5-small\",\n",
    "    \"document_language\": \"English\",\n",
    "    \"query_language\": \"German\"\n",
    "}\n",
    "\n",
    "ares = ARES(synthetic_query_generator=synth_config)\n",
    "results = ares.generate_synthetic_data()\n",
    "print(results)\n",
    "\n",
    "synth_config = {\n",
    "    \"document_filepaths\": [\"multilingual_data/mlqa_de-en.tsv\"],\n",
    "    \"few_shot_prompt_filename\": \"multilingual_data/few_shot_synthetic_generation_mlqa_de-en.tsv\",\n",
    "    \"documents_sampled\": 10,\n",
    "    \"synthetic_queries_filenames\": [\"multilingual_data/synthetic_queries_mlqa_de-en.tsv\"],\n",
    "    \"model_choice\": \"google/flan-t5-small\",\n",
    "    \"document_language\": \"German\",\n",
    "    \"query_language\": \"English\"\n",
    "}\n",
    "\n",
    "ares = ARES(synthetic_query_generator=synth_config)\n",
    "results = ares.generate_synthetic_data()\n",
    "print(results)\n",
    "\n",
    "synth_config = {\n",
    "    \"document_filepaths\": [\"multilingual_data/mlqa_de-de.tsv\"],\n",
    "    \"few_shot_prompt_filename\": \"multilingual_data/few_shot_synthetic_generation_mlqa_de-de.tsv\",\n",
    "    \"documents_sampled\": 10,\n",
    "    \"synthetic_queries_filenames\": [\"multilingual_data/synthetic_queries_mlqa_de-de.tsv\"],\n",
    "    \"model_choice\": \"google/flan-t5-small\",\n",
    "    \"document_language\": \"German\",\n",
    "    \"query_language\": \"German\"\n",
    "}\n",
    "\n",
    "ares = ARES(synthetic_query_generator=synth_config)\n",
    "results = ares.generate_synthetic_data()\n",
    "print(results)"
   ]
  },
  {
   "cell_type": "code",
   "execution_count": null,
   "metadata": {},
   "outputs": [],
   "source": [
    "from ares import ARES\n",
    "\n",
    "classifier_config = {\n",
    "    \"training_dataset\": [\"multilingual_data/synthetic_queries_mlqa_en-en.tsv\"], \n",
    "    \"validation_set\": [\"datasets/example_files/nq_labeled_output.tsv\"], # TODO\n",
    "    \"label_column\": [\"Context_Relevance_Label\"], \n",
    "    \"num_epochs\": 10, \n",
    "    \"patience_value\": 3, \n",
    "    \"learning_rate\": 5e-6,\n",
    "    \"assigned_batch_size\": 1,  \n",
    "    \"gradient_accumulation_multiplier\": 32,\n",
    "    \"model_choice\": \"microsoft/mdeberta-v3-base\"\n",
    "}\n",
    "\n",
    "ares = ARES(classifier_model=classifier_config)\n",
    "results = ares.train_classifier()\n",
    "print(results)"
   ]
  }
 ],
 "metadata": {
  "kernelspec": {
   "display_name": "llm_judge",
   "language": "python",
   "name": "python3"
  },
  "language_info": {
   "codemirror_mode": {
    "name": "ipython",
    "version": 3
   },
   "file_extension": ".py",
   "mimetype": "text/x-python",
   "name": "python",
   "nbconvert_exporter": "python",
   "pygments_lexer": "ipython3",
   "version": "3.10.14"
  }
 },
 "nbformat": 4,
 "nbformat_minor": 2
}
