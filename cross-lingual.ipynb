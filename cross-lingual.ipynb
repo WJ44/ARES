{
 "cells": [
  {
   "cell_type": "code",
   "execution_count": null,
   "metadata": {},
   "outputs": [],
   "source": [
    "%env OPENAI_API_KEY=test"
   ]
  },
  {
   "cell_type": "code",
   "execution_count": 1,
   "metadata": {},
   "outputs": [
    {
     "name": "stderr",
     "output_type": "stream",
     "text": [
      "/home/wesley/miniconda3/envs/ares/lib/python3.11/site-packages/huggingface_hub/file_download.py:1150: FutureWarning: `resume_download` is deprecated and will be removed in version 1.0.0. Downloads always resume when possible. If you want to force a new download, use `force_download=True`.\n",
      "  warnings.warn(\n",
      "/home/wesley/miniconda3/envs/ares/lib/python3.11/site-packages/huggingface_hub/file_download.py:1150: FutureWarning: `resume_download` is deprecated and will be removed in version 1.0.0. Downloads always resume when possible. If you want to force a new download, use `force_download=True`.\n",
      "  warnings.warn(\n"
     ]
    },
    {
     "name": "stdout",
     "output_type": "stream",
     "text": [
      "vLLM not imported.\n"
     ]
    }
   ],
   "source": [
    "from ares import ARES"
   ]
  },
  {
   "cell_type": "code",
   "execution_count": 3,
   "metadata": {},
   "outputs": [
    {
     "name": "stdout",
     "output_type": "stream",
     "text": [
      "========================================\n",
      "Saving synthetic queries to:  ['multilingual_data/synthetic_queries_mlqa_en-en.tsv']\n",
      "========================================\n"
     ]
    },
    {
     "name": "stderr",
     "output_type": "stream",
     "text": [
      "/home/wesley/miniconda3/envs/ares/lib/python3.11/site-packages/huggingface_hub/file_download.py:1150: FutureWarning: `resume_download` is deprecated and will be removed in version 1.0.0. Downloads always resume when possible. If you want to force a new download, use `force_download=True`.\n",
      "  warnings.warn(\n"
     ]
    },
    {
     "name": "stdout",
     "output_type": "stream",
     "text": [
      "Filtered out 758 documents because they had less than 50 words.\n",
      "\n",
      "=======================================\n",
      "| Starting Synthetic Query Generation |\n",
      "=======================================\n",
      "\n",
      "Generating positive queries for the first 5 documents...\n"
     ]
    },
    {
     "name": "stderr",
     "output_type": "stream",
     "text": [
      "Generating positive synthetic queries for documents 0 to 5...: 100%|██████████| 10/10 [00:31<00:00,  3.12s/it]\n"
     ]
    },
    {
     "name": "stdout",
     "output_type": "stream",
     "text": [
      "Total queries generated before filtering: 40\n",
      "Total queries after length filtering: 40\n",
      "Total queries after deduplication: 30\n"
     ]
    },
    {
     "name": "stderr",
     "output_type": "stream",
     "text": [
      "Generating embeddings...: 100%|██████████| 5/5 [00:01<00:00,  3.10it/s]\n"
     ]
    },
    {
     "data": {
      "application/vnd.jupyter.widget-view+json": {
       "model_id": "1fff2535212a436f95c4e5b5c0d8d563",
       "version_major": 2,
       "version_minor": 0
      },
      "text/plain": [
       "  0%|          | 0/1 [00:00<?, ?it/s]"
      ]
     },
     "metadata": {},
     "output_type": "display_data"
    },
    {
     "name": "stderr",
     "output_type": "stream",
     "text": [
      "100%|██████████| 30/30 [00:04<00:00,  7.01it/s]\n"
     ]
    },
    {
     "name": "stdout",
     "output_type": "stream",
     "text": [
      "Total queries after filtering: 30\n",
      "Generating negative queries for the remaining 5 documents...\n",
      "Saved synthetic queries to: multilingual_data/synthetic_queries_mlqa_en-en.tsv\n",
      "\n",
      "=========================================\n",
      "| Synthetic query generation completed. |\n",
      "=========================================\n",
      "\n",
      "Total queries saved: 15 (Positive: 5, Duplicate: 5, Duplicate2: 0 Negative: 5)\n",
      "\n",
      "================================\n",
      "| Beginning answer generation! |\n",
      "================================\n",
      "\n",
      "Generating answers for 6 queries...\n"
     ]
    },
    {
     "name": "stderr",
     "output_type": "stream",
     "text": [
      "Generating answers... (FLAN): 100%|██████████| 6/6 [00:04<00:00,  1.46it/s]\n",
      "/home/wesley/miniconda3/envs/ares/lib/python3.11/site-packages/huggingface_hub/file_download.py:1150: FutureWarning: `resume_download` is deprecated and will be removed in version 1.0.0. Downloads always resume when possible. If you want to force a new download, use `force_download=True`.\n",
      "  warnings.warn(\n"
     ]
    },
    {
     "name": "stdout",
     "output_type": "stream",
     "text": [
      "Generated answers for 6 queries.\n",
      "Saved positive answers to: multilingual_data/synthetic_queries_mlqa_en-en.tsv\n",
      "Generating negative answers for the second chunk of queries...\n",
      "Saved answers to: multilingual_data/synthetic_queries_mlqa_en-en.tsv\n",
      "Completed synthetic generation!\n",
      "Saved synthetic queries file to: multilingual_data/synthetic_queries_mlqa_en-en.tsv\n",
      "\n",
      "===============================================\n",
      "| Answer generation and processing completed. |\n",
      "===============================================\n",
      "\n",
      "None\n",
      "========================================\n",
      "Saving synthetic queries to:  ['multilingual_data/synthetic_queries_mlqa_en-de.tsv']\n",
      "========================================\n",
      "Filtered out 758 documents because they had less than 50 words.\n",
      "\n",
      "=======================================\n",
      "| Starting Synthetic Query Generation |\n",
      "=======================================\n",
      "\n",
      "Generating positive queries for the first 5 documents...\n"
     ]
    },
    {
     "name": "stderr",
     "output_type": "stream",
     "text": [
      "Generating positive synthetic queries for documents 0 to 5...:   0%|          | 0/10 [00:00<?, ?it/s]Token indices sequence length is longer than the specified maximum sequence length for this model (597 > 512). Running this sequence through the model will result in indexing errors\n",
      "Generating positive synthetic queries for documents 0 to 5...: 100%|██████████| 10/10 [01:01<00:00,  6.17s/it]\n"
     ]
    },
    {
     "name": "stdout",
     "output_type": "stream",
     "text": [
      "Total queries generated before filtering: 40\n",
      "Total queries after length filtering: 40\n",
      "Total queries after deduplication: 31\n"
     ]
    },
    {
     "name": "stderr",
     "output_type": "stream",
     "text": [
      "Generating embeddings...: 100%|██████████| 5/5 [00:01<00:00,  3.03it/s]\n"
     ]
    },
    {
     "data": {
      "application/vnd.jupyter.widget-view+json": {
       "model_id": "6e8c8d2cab84433cbd5ed9547ef5d546",
       "version_major": 2,
       "version_minor": 0
      },
      "text/plain": [
       "  0%|          | 0/1 [00:00<?, ?it/s]"
      ]
     },
     "metadata": {},
     "output_type": "display_data"
    },
    {
     "name": "stderr",
     "output_type": "stream",
     "text": [
      "100%|██████████| 31/31 [00:04<00:00,  7.13it/s]\n"
     ]
    },
    {
     "name": "stdout",
     "output_type": "stream",
     "text": [
      "Total queries after filtering: 31\n",
      "Generating negative queries for the remaining 5 documents...\n",
      "Saved synthetic queries to: multilingual_data/synthetic_queries_mlqa_en-de.tsv\n",
      "\n",
      "=========================================\n",
      "| Synthetic query generation completed. |\n",
      "=========================================\n",
      "\n",
      "Total queries saved: 20 (Positive: 5, Duplicate: 5, Duplicate2: 5 Negative: 5)\n",
      "\n",
      "================================\n",
      "| Beginning answer generation! |\n",
      "================================\n",
      "\n",
      "Generating answers for 6 queries...\n"
     ]
    },
    {
     "name": "stderr",
     "output_type": "stream",
     "text": [
      "Generating answers... (FLAN): 100%|██████████| 6/6 [00:07<00:00,  1.22s/it]\n"
     ]
    },
    {
     "name": "stdout",
     "output_type": "stream",
     "text": [
      "Generated answers for 6 queries.\n",
      "Saved positive answers to: multilingual_data/synthetic_queries_mlqa_en-de.tsv\n",
      "Generating negative answers for the second chunk of queries...\n"
     ]
    },
    {
     "name": "stderr",
     "output_type": "stream",
     "text": [
      "Generating answers... (FLAN): 100%|██████████| 6/6 [00:05<00:00,  1.10it/s]\n",
      "/home/wesley/miniconda3/envs/ares/lib/python3.11/site-packages/huggingface_hub/file_download.py:1150: FutureWarning: `resume_download` is deprecated and will be removed in version 1.0.0. Downloads always resume when possible. If you want to force a new download, use `force_download=True`.\n",
      "  warnings.warn(\n"
     ]
    },
    {
     "name": "stdout",
     "output_type": "stream",
     "text": [
      "Saved answers to: multilingual_data/synthetic_queries_mlqa_en-de.tsv\n",
      "Completed synthetic generation!\n",
      "Saved synthetic queries file to: multilingual_data/synthetic_queries_mlqa_en-de.tsv\n",
      "\n",
      "===============================================\n",
      "| Answer generation and processing completed. |\n",
      "===============================================\n",
      "\n",
      "None\n",
      "========================================\n",
      "Saving synthetic queries to:  ['multilingual_data/synthetic_queries_mlqa_de-en.tsv']\n",
      "========================================\n",
      "Filtered out 1187 documents because they had less than 50 words.\n",
      "\n",
      "=======================================\n",
      "| Starting Synthetic Query Generation |\n",
      "=======================================\n",
      "\n",
      "Generating positive queries for the first 5 documents...\n"
     ]
    },
    {
     "name": "stderr",
     "output_type": "stream",
     "text": [
      "Generating positive synthetic queries for documents 0 to 5...: 100%|██████████| 10/10 [00:51<00:00,  5.20s/it]\n"
     ]
    },
    {
     "name": "stdout",
     "output_type": "stream",
     "text": [
      "Total queries generated before filtering: 40\n",
      "Total queries after length filtering: 40\n",
      "Total queries after deduplication: 30\n"
     ]
    },
    {
     "name": "stderr",
     "output_type": "stream",
     "text": [
      "Generating embeddings...: 100%|██████████| 5/5 [00:01<00:00,  2.58it/s]\n"
     ]
    },
    {
     "data": {
      "application/vnd.jupyter.widget-view+json": {
       "model_id": "f1648b5cc2a2432bbf58f45f8d52b3eb",
       "version_major": 2,
       "version_minor": 0
      },
      "text/plain": [
       "  0%|          | 0/1 [00:00<?, ?it/s]"
      ]
     },
     "metadata": {},
     "output_type": "display_data"
    },
    {
     "name": "stderr",
     "output_type": "stream",
     "text": [
      "100%|██████████| 30/30 [00:04<00:00,  6.60it/s]\n"
     ]
    },
    {
     "name": "stdout",
     "output_type": "stream",
     "text": [
      "Total queries after filtering: 30\n",
      "Generating negative queries for the remaining 5 documents...\n",
      "Saved synthetic queries to: multilingual_data/synthetic_queries_mlqa_de-en.tsv\n",
      "\n",
      "=========================================\n",
      "| Synthetic query generation completed. |\n",
      "=========================================\n",
      "\n",
      "Total queries saved: 20 (Positive: 5, Duplicate: 5, Duplicate2: 5 Negative: 5)\n",
      "\n",
      "================================\n",
      "| Beginning answer generation! |\n",
      "================================\n",
      "\n",
      "Generating answers for 6 queries...\n"
     ]
    },
    {
     "name": "stderr",
     "output_type": "stream",
     "text": [
      "Generating answers... (FLAN): 100%|██████████| 6/6 [00:10<00:00,  1.77s/it]\n"
     ]
    },
    {
     "name": "stdout",
     "output_type": "stream",
     "text": [
      "Generated answers for 6 queries.\n",
      "Saved positive answers to: multilingual_data/synthetic_queries_mlqa_de-en.tsv\n",
      "Generating negative answers for the second chunk of queries...\n"
     ]
    },
    {
     "name": "stderr",
     "output_type": "stream",
     "text": [
      "Generating answers... (FLAN): 100%|██████████| 6/6 [00:28<00:00,  5.00s/it]Token indices sequence length is longer than the specified maximum sequence length for this model (853 > 512). Running this sequence through the model will result in indexing errors\n",
      "Generating answers... (FLAN): 100%|██████████| 6/6 [00:31<00:00,  5.28s/it]\n",
      "/home/wesley/miniconda3/envs/ares/lib/python3.11/site-packages/huggingface_hub/file_download.py:1150: FutureWarning: `resume_download` is deprecated and will be removed in version 1.0.0. Downloads always resume when possible. If you want to force a new download, use `force_download=True`.\n",
      "  warnings.warn(\n"
     ]
    },
    {
     "name": "stdout",
     "output_type": "stream",
     "text": [
      "Saved answers to: multilingual_data/synthetic_queries_mlqa_de-en.tsv\n",
      "Completed synthetic generation!\n",
      "Saved synthetic queries file to: multilingual_data/synthetic_queries_mlqa_de-en.tsv\n",
      "\n",
      "===============================================\n",
      "| Answer generation and processing completed. |\n",
      "===============================================\n",
      "\n",
      "None\n",
      "========================================\n",
      "Saving synthetic queries to:  ['multilingual_data/synthetic_queries_mlqa_de-de.tsv']\n",
      "========================================\n",
      "Filtered out 1187 documents because they had less than 50 words.\n",
      "\n",
      "=======================================\n",
      "| Starting Synthetic Query Generation |\n",
      "=======================================\n",
      "\n",
      "Generating positive queries for the first 5 documents...\n"
     ]
    },
    {
     "name": "stderr",
     "output_type": "stream",
     "text": [
      "Generating positive synthetic queries for documents 0 to 5...:   0%|          | 0/10 [00:00<?, ?it/s]Token indices sequence length is longer than the specified maximum sequence length for this model (1050 > 512). Running this sequence through the model will result in indexing errors\n",
      "Generating positive synthetic queries for documents 0 to 5...: 100%|██████████| 10/10 [01:20<00:00,  8.01s/it]\n"
     ]
    },
    {
     "name": "stdout",
     "output_type": "stream",
     "text": [
      "Total queries generated before filtering: 40\n",
      "Total queries after length filtering: 40\n",
      "Total queries after deduplication: 35\n"
     ]
    },
    {
     "name": "stderr",
     "output_type": "stream",
     "text": [
      "Generating embeddings...: 100%|██████████| 5/5 [00:01<00:00,  2.99it/s]\n"
     ]
    },
    {
     "data": {
      "application/vnd.jupyter.widget-view+json": {
       "model_id": "d9a670e33d1a46c78a1eb031b8661a55",
       "version_major": 2,
       "version_minor": 0
      },
      "text/plain": [
       "  0%|          | 0/1 [00:00<?, ?it/s]"
      ]
     },
     "metadata": {},
     "output_type": "display_data"
    },
    {
     "name": "stderr",
     "output_type": "stream",
     "text": [
      "100%|██████████| 35/35 [00:05<00:00,  6.71it/s]\n"
     ]
    },
    {
     "name": "stdout",
     "output_type": "stream",
     "text": [
      "Total queries after filtering: 35\n",
      "Generating negative queries for the remaining 5 documents...\n",
      "Saved synthetic queries to: multilingual_data/synthetic_queries_mlqa_de-de.tsv\n",
      "\n",
      "=========================================\n",
      "| Synthetic query generation completed. |\n",
      "=========================================\n",
      "\n",
      "Total queries saved: 15 (Positive: 5, Duplicate: 5, Duplicate2: 0 Negative: 5)\n",
      "\n",
      "================================\n",
      "| Beginning answer generation! |\n",
      "================================\n",
      "\n",
      "Generating answers for 6 queries...\n"
     ]
    },
    {
     "name": "stderr",
     "output_type": "stream",
     "text": [
      "Generating answers... (FLAN): 100%|██████████| 6/6 [00:05<00:00,  1.14it/s]"
     ]
    },
    {
     "name": "stdout",
     "output_type": "stream",
     "text": [
      "Generated answers for 6 queries.\n",
      "Saved positive answers to: multilingual_data/synthetic_queries_mlqa_de-de.tsv\n",
      "Generating negative answers for the second chunk of queries...\n",
      "Saved answers to: multilingual_data/synthetic_queries_mlqa_de-de.tsv\n",
      "Completed synthetic generation!\n",
      "Saved synthetic queries file to: multilingual_data/synthetic_queries_mlqa_de-de.tsv\n",
      "\n",
      "===============================================\n",
      "| Answer generation and processing completed. |\n",
      "===============================================\n",
      "\n",
      "None\n"
     ]
    },
    {
     "name": "stderr",
     "output_type": "stream",
     "text": [
      "\n"
     ]
    }
   ],
   "source": [
    "synth_config = {\n",
    "    \"document_filepaths\": [\"multilingual_data/mlqa_test_en_en.tsv\"],\n",
    "    \"few_shot_prompt_filename\": \"multilingual_data/few_shot_en_en.tsv\",\n",
    "    \"synthetic_queries_filenames\": [\"multilingual_data/synthetic_queries_mlqa_en-en.tsv\"],\n",
    "    \"documents_sampled\": 10, # 4513\n",
    "    \"model_choice\": \"google/flan-t5-small\",\n",
    "    \"document_language\": \"English\",\n",
    "    \"query_language\": \"English\"\n",
    "}\n",
    "\n",
    "ares = ARES(synthetic_query_generator=synth_config)\n",
    "results = ares.generate_synthetic_data()\n",
    "print(results)\n",
    "\n",
    "synth_config = {\n",
    "    \"document_filepaths\": [\"multilingual_data/mlqa_test_en_de.tsv\"],\n",
    "    \"few_shot_prompt_filename\": \"multilingual_data/few_shot_en_de.tsv\",\n",
    "    \"synthetic_queries_filenames\": [\"multilingual_data/synthetic_queries_mlqa_en-de.tsv\"],\n",
    "    \"documents_sampled\": 10,\n",
    "    \"model_choice\": \"google/flan-t5-small\",\n",
    "    \"document_language\": \"English\",\n",
    "    \"query_language\": \"German\"\n",
    "}\n",
    "\n",
    "ares = ARES(synthetic_query_generator=synth_config)\n",
    "results = ares.generate_synthetic_data()\n",
    "print(results)\n",
    "\n",
    "synth_config = {\n",
    "    \"document_filepaths\": [\"multilingual_data/mlqa_test_de_en.tsv\"],\n",
    "    \"few_shot_prompt_filename\": \"multilingual_data/few_shot_de_en.tsv\",\n",
    "    \"documents_sampled\": 10,\n",
    "    \"synthetic_queries_filenames\": [\"multilingual_data/synthetic_queries_mlqa_de-en.tsv\"],\n",
    "    \"model_choice\": \"google/flan-t5-small\",\n",
    "    \"document_language\": \"German\",\n",
    "    \"query_language\": \"English\"\n",
    "}\n",
    "\n",
    "ares = ARES(synthetic_query_generator=synth_config)\n",
    "results = ares.generate_synthetic_data()\n",
    "print(results)\n",
    "\n",
    "synth_config = {\n",
    "    \"document_filepaths\": [\"multilingual_data/mlqa_test_de_de.tsv\"],\n",
    "    \"few_shot_prompt_filename\": \"multilingual_data/few_shot_de_de.tsv\",\n",
    "    \"documents_sampled\": 10,\n",
    "    \"synthetic_queries_filenames\": [\"multilingual_data/synthetic_queries_mlqa_de-de.tsv\"],\n",
    "    \"model_choice\": \"google/flan-t5-small\",\n",
    "    \"document_language\": \"German\",\n",
    "    \"query_language\": \"German\"\n",
    "}\n",
    "\n",
    "ares = ARES(synthetic_query_generator=synth_config)\n",
    "results = ares.generate_synthetic_data()\n",
    "print(results)"
   ]
  },
  {
   "cell_type": "code",
   "execution_count": null,
   "metadata": {},
   "outputs": [],
   "source": [
    "from ares import ARES\n",
    "\n",
    "classifier_config = {\n",
    "    \"training_dataset\": [\"multilingual_data/synthetic_queries_mlqa_en-en.tsv\"], \n",
    "    \"validation_set\": [\"datasets/example_files/nq_labeled_output.tsv\"], # TODO\n",
    "    \"label_column\": [\"Context_Relevance_Label\"], \n",
    "    \"num_epochs\": 10, \n",
    "    \"patience_value\": 3, \n",
    "    \"learning_rate\": 5e-6,\n",
    "    \"assigned_batch_size\": 1,  \n",
    "    \"gradient_accumulation_multiplier\": 32,\n",
    "    \"model_choice\": \"microsoft/mdeberta-v3-base\"\n",
    "}\n",
    "\n",
    "ares = ARES(classifier_model=classifier_config)\n",
    "results = ares.train_classifier()\n",
    "print(results)"
   ]
  }
 ],
 "metadata": {
  "kernelspec": {
   "display_name": "llm_judge",
   "language": "python",
   "name": "python3"
  },
  "language_info": {
   "codemirror_mode": {
    "name": "ipython",
    "version": 3
   },
   "file_extension": ".py",
   "mimetype": "text/x-python",
   "name": "python",
   "nbconvert_exporter": "python",
   "pygments_lexer": "ipython3",
   "version": "3.11.9"
  }
 },
 "nbformat": 4,
 "nbformat_minor": 2
}
