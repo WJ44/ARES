{
 "cells": [
  {
   "cell_type": "code",
   "execution_count": 227,
   "metadata": {},
   "outputs": [
    {
     "data": {
      "text/plain": [
       "4054"
      ]
     },
     "execution_count": 227,
     "metadata": {},
     "output_type": "execute_result"
    }
   ],
   "source": [
    "import pandas as pd\n",
    "import json\n",
    "\n",
    "en_de = json.load(open(\"MLQA_V1/dev/dev-context-en-question-de.json\"))\n",
    "de_en = json.load(open(\"MLQA_V1/dev/dev-context-de-question-en.json\"))\n",
    "\n",
    "paragraphs_en_de = {}\n",
    "paragraphs_de_en = {}\n",
    "\n",
    "for article in en_de[\"data\"]:\n",
    "    for paragraph in article[\"paragraphs\"]:\n",
    "        for qa in paragraph[\"qas\"]:\n",
    "            paragraphs_en_de[qa[\"id\"]] = paragraph\n",
    "\n",
    "for article in de_en[\"data\"]:\n",
    "    for paragraph in article[\"paragraphs\"]:\n",
    "        for qa in paragraph[\"qas\"]:\n",
    "            paragraphs_de_en[qa[\"id\"]] = paragraph\n",
    "\n",
    "reverse_en_de = {}\n",
    "for key, value in paragraphs_en_de.items():\n",
    "    if value[\"context\"] not in reverse_en_de:\n",
    "        reverse_en_de[value[\"context\"]] = [key]\n",
    "    else:\n",
    "        reverse_en_de[value[\"context\"]].append(key)\n",
    "\n",
    "reverse_de_en = {}\n",
    "for key, value in paragraphs_de_en.items():\n",
    "    if value[\"context\"] not in reverse_de_en:\n",
    "        reverse_de_en[value[\"context\"]] = [key]\n",
    "    else:\n",
    "        reverse_de_en[value[\"context\"]].append(key)\n",
    "\n",
    "paragraphs_en = []\n",
    "paragraphs_de = []\n",
    "for qa in paragraphs_en_de:\n",
    "    if sorted(reverse_en_de[paragraphs_en_de[qa][\"context\"]]) != sorted(reverse_de_en[paragraphs_de_en[qa][\"context\"]]):\n",
    "        continue\n",
    "    if paragraphs_en_de[qa] not in paragraphs_en:\n",
    "        paragraphs_en.append(paragraphs_en_de[qa])\n",
    "        paragraphs_de.append(paragraphs_de_en[qa])\n",
    "\n",
    "\n",
    "questions = []\n",
    "\n",
    "for paragraph in paragraphs_en:\n",
    "    for qa in paragraph[\"qas\"]:\n",
    "        questions.append({\"id\": qa[\"id\"], \"question_en\": qa[\"question\"], \"answer_en\": qa[\"answers\"][0][\"text\"], \"paragraph_en\": paragraph[\"context\"]})\n",
    "\n",
    "df = pd.DataFrame(questions)\n",
    "\n",
    "for paragraph in paragraphs_de:\n",
    "    for qa in paragraph[\"qas\"]:\n",
    "        df.loc[df[\"id\"] == qa[\"id\"], \"question_de\"] = qa[\"question\"]\n",
    "        df.loc[df[\"id\"] == qa[\"id\"], \"answer_de\"] = qa[\"answers\"][0][\"text\"]\n",
    "        df.loc[df[\"id\"] == qa[\"id\"], \"paragraph_de\"] = paragraph[\"context\"]\n"
   ]
  }
 ],
 "metadata": {
  "kernelspec": {
   "display_name": "llm_judge",
   "language": "python",
   "name": "python3"
  },
  "language_info": {
   "codemirror_mode": {
    "name": "ipython",
    "version": 3
   },
   "file_extension": ".py",
   "mimetype": "text/x-python",
   "name": "python",
   "nbconvert_exporter": "python",
   "pygments_lexer": "ipython3",
   "version": "3.10.14"
  }
 },
 "nbformat": 4,
 "nbformat_minor": 2
}
